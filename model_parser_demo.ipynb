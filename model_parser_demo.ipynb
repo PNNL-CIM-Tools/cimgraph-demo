{
 "cells": [
  {
   "cell_type": "markdown",
   "metadata": {},
   "source": [
    "# Model Parser Example\n",
    "\n",
    "Demo of how to query for an existing model that is already in a database"
   ]
  },
  {
   "cell_type": "code",
   "execution_count": 1,
   "metadata": {},
   "outputs": [],
   "source": [
    "# Specify the CIM profile version, using GridAPPS-D extensions, ver. 2021\n",
    "import importlib\n",
    "cim_profile = 'rc4_2021'\n",
    "cim = importlib.import_module('cimgraph.data_profile.' + cim_profile)\n",
    "sparql = importlib.import_module('cimgraph.loaders.sparql.' + cim_profile)"
   ]
  },
  {
   "cell_type": "code",
   "execution_count": 2,
   "metadata": {},
   "outputs": [],
   "source": [
    "# Import Distributed Topology Processor\n",
    "from topology_processor import DistributedTopology"
   ]
  },
  {
   "cell_type": "code",
   "execution_count": 3,
   "metadata": {},
   "outputs": [],
   "source": [
    "# Import CIMantic Graphs database connection and models\n",
    "from cimgraph.loaders import Parameter, ConnectionParameters\n",
    "from cimgraph.loaders.blazegraph.blazegraph import BlazegraphConnection\n",
    "from cimgraph.models import DistributedModel\n",
    "import json"
   ]
  },
  {
   "cell_type": "code",
   "execution_count": 4,
   "metadata": {},
   "outputs": [],
   "source": [
    "# Connect to Blazegraph Database\n",
    "params = ConnectionParameters([Parameter(key=\"url\", value=\"http://localhost:8889/bigdata/namespace/kb/sparql\")])\n",
    "bg = BlazegraphConnection(params, 'rc4_2021')"
   ]
  },
  {
   "cell_type": "code",
   "execution_count": 5,
   "metadata": {},
   "outputs": [],
   "source": [
    "# Create Feeder object\n",
    "feeder_mrid = \"_49AD8E07-3BF9-A4E2-CB8F-C3722F837B62\"  # 13 bus\n",
    "feeder = cim.Feeder(mRID=feeder_mrid)"
   ]
  },
  {
   "cell_type": "code",
   "execution_count": 6,
   "metadata": {},
   "outputs": [],
   "source": [
    "# Run Distributed Topology Processor to create switch-delimited topological areas\n",
    "Topology = DistributedTopology(bg, feeder_mrid)\n",
    "topology_response = json.loads(Topology.create_switch_areas(feeder_mrid))"
   ]
  },
  {
   "cell_type": "code",
   "execution_count": 7,
   "metadata": {},
   "outputs": [],
   "source": [
    "# Create CIMantic Graphs model and initialize all CIM objects\n",
    "network = DistributedModel(connection=bg, feeder=feeder, topology=topology_response['feeders'])"
   ]
  },
  {
   "cell_type": "code",
   "execution_count": 11,
   "metadata": {},
   "outputs": [
    {
     "name": "stdout",
     "output_type": "stream",
     "text": [
      "{'_0BBD0EA3-F665-465B-86FD-FC8B8466AD53': {'mRID': '_0BBD0EA3-F665-465B-86FD-FC8B8466AD53',\n",
      "                                           'name': '645646'},\n",
      " '_1C6781A2-5B9D-4525-8A9B-F9B32C4C4AC0': {'mRID': '_1C6781A2-5B9D-4525-8A9B-F9B32C4C4AC0',\n",
      "                                           'name': '632645'},\n",
      " '_45395C84-F20A-4F5A-977F-B80348256421': {'mRID': '_45395C84-F20A-4F5A-977F-B80348256421',\n",
      "                                           'name': '670671'},\n",
      " '_4C04F838-62AA-475E-AEFA-A63B7C889C13': {'mRID': '_4C04F838-62AA-475E-AEFA-A63B7C889C13',\n",
      "                                           'name': '671680'},\n",
      " '_7060D0BB-B30D-4932-8FA1-40820A0FC4D0': {'mRID': '_7060D0BB-B30D-4932-8FA1-40820A0FC4D0',\n",
      "                                           'name': '692675'},\n",
      " '_8E180773-2A9B-4136-BC9A-132A52C8E276': {'mRID': '_8E180773-2A9B-4136-BC9A-132A52C8E276',\n",
      "                                           'name': '684611'},\n",
      " '_A04CDFB1-E951-4FC4-8882-0323CD70AE3C': {'mRID': '_A04CDFB1-E951-4FC4-8882-0323CD70AE3C',\n",
      "                                           'name': '650632'},\n",
      " '_ABF53597-A808-422A-B7EE-552F24D83A5F': {'mRID': '_ABF53597-A808-422A-B7EE-552F24D83A5F',\n",
      "                                           'name': '632670'},\n",
      " '_ABF877D7-DAC2-4BF0-AB58-9A8A02E92EB3': {'mRID': '_ABF877D7-DAC2-4BF0-AB58-9A8A02E92EB3',\n",
      "                                           'name': '684652'},\n",
      " '_D34B0D01-B082-4081-A3CC-B68B9B8313A4': {'mRID': '_D34B0D01-B082-4081-A3CC-B68B9B8313A4',\n",
      "                                           'name': '671684'},\n",
      " '_FBE26B35-13AB-457D-9795-DF58B28E309D': {'mRID': '_FBE26B35-13AB-457D-9795-DF58B28E309D',\n",
      "                                           'name': '632633'}}\n"
     ]
    }
   ],
   "source": [
    "(network.pprint(cim.ACLineSegment))"
   ]
  },
  {
   "cell_type": "code",
   "execution_count": 12,
   "metadata": {},
   "outputs": [
    {
     "name": "stdout",
     "output_type": "stream",
     "text": [
      "{'_0BBD0EA3-F665-465B-86FD-FC8B8466AD53': {'ACLineSegmentPhases': ['_94FCAFFF-E5F7-4F97-B697-35C46656EDCA',\n",
      "                                                                   '_CE2AFB05-A1B1-4082-B4EB-2AD8A1D3422D'],\n",
      "                                           'BaseVoltage': '_2A158E0C-CD01-4A50-AEBA-59D761FCF15D',\n",
      "                                           'Location': '_89C21411-D107-454A-93B0-0905893DD27D',\n",
      "                                           'Measurements': ['_2d9ed148-d492-4e7d-b9af-81a407e74a59',\n",
      "                                                            '_4e30ae83-418c-4cfb-99eb-5572e00b4ec4',\n",
      "                                                            '_5f1dfa9f-e754-471d-9c74-c1a9441e95a3',\n",
      "                                                            '_84f75532-a514-4355-bf0e-2f8d82c736ae'],\n",
      "                                           'PerLengthImpedance': '_12C526C5-6645-4C0C-83CD-3030C440DA17',\n",
      "                                           'Terminals': ['_D02B9E99-3557-48F5-B475-4871E47D08F6',\n",
      "                                                         '_F3C0F2D0-4D28-49B5-A920-37409B99229D'],\n",
      "                                           'length': '91.44',\n",
      "                                           'mRID': '_0BBD0EA3-F665-465B-86FD-FC8B8466AD53',\n",
      "                                           'name': '645646'},\n",
      " '_1C6781A2-5B9D-4525-8A9B-F9B32C4C4AC0': {'ACLineSegmentPhases': ['_19B6044B-6915-4245-9DD1-6AB0444D42A6',\n",
      "                                                                   '_D9C9CEA6-B3F0-4E02-9911-3DFA192B4D01'],\n",
      "                                           'BaseVoltage': '_2A158E0C-CD01-4A50-AEBA-59D761FCF15D',\n",
      "                                           'Location': '_E85D20C3-84EA-43F6-9D31-5239FAB00019',\n",
      "                                           'Measurements': ['_65599f7e-3e93-4456-a2b1-bba7a46337b6',\n",
      "                                                            '_6bb8ef03-ec84-421f-8d28-cd1a3813e614',\n",
      "                                                            '_98a81464-d7b6-4044-9b48-a92e179884dc',\n",
      "                                                            '_d8ea43c7-2107-4975-9ddb-4279628daf18'],\n",
      "                                           'PerLengthImpedance': '_12C526C5-6645-4C0C-83CD-3030C440DA17',\n",
      "                                           'Terminals': ['_4891537F-4088-48F5-9B1A-8294D50901E4',\n",
      "                                                         '_A563A3A5-EA39-4998-96B2-538227E2D2F6'],\n",
      "                                           'length': '152.4',\n",
      "                                           'mRID': '_1C6781A2-5B9D-4525-8A9B-F9B32C4C4AC0',\n",
      "                                           'name': '632645'},\n",
      " '_45395C84-F20A-4F5A-977F-B80348256421': {'ACLineSegmentPhases': ['_E295A13C-1B49-4D5A-8BB6-6D106AE0D436',\n",
      "                                                                   '_5092EC91-3F74-4829-ABF1-AF5C6AFD1A50',\n",
      "                                                                   '_5AFA6BC8-9FCE-4931-A83B-C8CA2EC15551'],\n",
      "                                           'BaseVoltage': '_2A158E0C-CD01-4A50-AEBA-59D761FCF15D',\n",
      "                                           'Location': '_BE71BF98-CD79-4A6D-804B-6729A6EB8020',\n",
      "                                           'Measurements': ['_67214379-2364-4d28-9025-10eb7a90cff4',\n",
      "                                                            '_b59a587c-fd11-41ad-9172-f83d78d54ac3',\n",
      "                                                            '_d11aff18-688e-45f0-82c2-a277fa1b97c0'],\n",
      "                                           'PerLengthImpedance': '_50044320-7295-4591-B39E-F793F1923098',\n",
      "                                           'Terminals': ['_092A5199-DB5E-419E-ADCF-53B290EFAB2C',\n",
      "                                                         '_EEF69C71-5A87-4378-8DF4-4578635C81B4'],\n",
      "                                           'length': '406.2984',\n",
      "                                           'mRID': '_45395C84-F20A-4F5A-977F-B80348256421',\n",
      "                                           'name': '670671'},\n",
      " '_4C04F838-62AA-475E-AEFA-A63B7C889C13': {'ACLineSegmentPhases': ['_1B6C674F-B22C-4D39-9294-98BB4634ED96',\n",
      "                                                                   '_A28877AB-3D74-4950-AA8C-45D962BD7331',\n",
      "                                                                   '_A539F769-AF0F-4203-99CE-6FF4B9D07F70'],\n",
      "                                           'BaseVoltage': '_2A158E0C-CD01-4A50-AEBA-59D761FCF15D',\n",
      "                                           'Location': '_6E6EDB91-07A8-46E9-BDC5-733EAB0552F7',\n",
      "                                           'Measurements': ['_0c27bd24-120f-40b2-b0dd-e7cc58e7ebc7',\n",
      "                                                            '_142ea530-f364-4dd9-887d-390c4aca512e',\n",
      "                                                            '_569f6c28-79d6-4192-a238-1294a899cee3',\n",
      "                                                            '_881b2079-132d-42b6-a2e4-3d9a954199fc',\n",
      "                                                            '_aaa5a1e5-ddd2-4324-b1d7-0b2d1b251f32',\n",
      "                                                            '_c549a164-fcff-4b13-9c64-5173fb43994f'],\n",
      "                                           'PerLengthImpedance': '_50044320-7295-4591-B39E-F793F1923098',\n",
      "                                           'Terminals': ['_8BE8D3EA-EEE9-406C-B24C-B169C8EC799A',\n",
      "                                                         '_FF3DE145-0066-4C1F-867C-2A2BF3012EDF'],\n",
      "                                           'length': '304.8',\n",
      "                                           'mRID': '_4C04F838-62AA-475E-AEFA-A63B7C889C13',\n",
      "                                           'name': '671680'},\n",
      " '_7060D0BB-B30D-4932-8FA1-40820A0FC4D0': {'ACLineSegmentPhases': ['_216C7BCA-22B0-4B68-81F5-33AB8A4E6DA7',\n",
      "                                                                   '_5D4FC857-8FD9-4BE9-8C1F-11CF7E38AA46',\n",
      "                                                                   '_BD4212B3-1635-421A-BDD8-767B6738FA80'],\n",
      "                                           'BaseVoltage': '_2A158E0C-CD01-4A50-AEBA-59D761FCF15D',\n",
      "                                           'Location': '_F302E764-FCD7-41AF-903E-42A4F0045EEF',\n",
      "                                           'Measurements': ['_2abd660f-3dc2-4611-95a0-9adebae7fe3b',\n",
      "                                                            '_387c6bab-0a0a-4c90-9b19-73a902ab1e28',\n",
      "                                                            '_4da919f1-762f-4755-b674-5faccf3faec6'],\n",
      "                                           'PerLengthImpedance': '_07097405-6433-4EBF-9EE2-2049906B4157',\n",
      "                                           'Terminals': ['_B4E1784C-5500-47AE-958B-A286CE8C17A5',\n",
      "                                                         '_CD147977-45B7-48AD-9F72-4F488BD6AD6D'],\n",
      "                                           'length': '152.4',\n",
      "                                           'mRID': '_7060D0BB-B30D-4932-8FA1-40820A0FC4D0',\n",
      "                                           'name': '692675'},\n",
      " '_8E180773-2A9B-4136-BC9A-132A52C8E276': {'ACLineSegmentPhases': ['_AA2FE477-C2D1-4206-9A8E-742D27976105'],\n",
      "                                           'BaseVoltage': '_2A158E0C-CD01-4A50-AEBA-59D761FCF15D',\n",
      "                                           'Location': '_5A4B421C-35AA-45FA-B364-43236D22BCEE',\n",
      "                                           'Measurements': ['_2d31c620-a2f9-4f84-9102-9a8fe574ab6b'],\n",
      "                                           'PerLengthImpedance': '_B10FD3C7-8BD6-45D0-9A08-8ADFE7A51952',\n",
      "                                           'Terminals': ['_233304A2-B68B-4EC3-A692-4735DE495569',\n",
      "                                                         '_EA5FF2C4-F7E1-436D-BDEC-1C48D4DBB50D'],\n",
      "                                           'length': '91.44',\n",
      "                                           'mRID': '_8E180773-2A9B-4136-BC9A-132A52C8E276',\n",
      "                                           'name': '684611'},\n",
      " '_A04CDFB1-E951-4FC4-8882-0323CD70AE3C': {'ACLineSegmentPhases': ['_2A5A1025-AD81-4BFA-A7F0-ED70F7F43DAA',\n",
      "                                                                   '_2D60B241-DE87-48BD-A8D3-FE4B705B40ED',\n",
      "                                                                   '_A66508A9-C9C1-4DB5-8FFD-F081E5E9E14D'],\n",
      "                                           'BaseVoltage': '_2A158E0C-CD01-4A50-AEBA-59D761FCF15D',\n",
      "                                           'Location': '_3A63B621-3FA6-4805-96F9-DD57A7F88ACF',\n",
      "                                           'Measurements': ['_0a2f7676-f619-405b-bb80-8f51f4d7a25f',\n",
      "                                                            '_9f4bef6c-c68d-42a9-ade6-206a8b365ce9',\n",
      "                                                            '_c16593db-3c64-4504-9387-17f19f558549',\n",
      "                                                            '_5ad9e784-5b6c-4f2c-bc4d-1ccc31cfd96b',\n",
      "                                                            '_8dc4079e-6bbb-491d-9f4c-0c240228b647',\n",
      "                                                            '_fc4adc62-5608-467f-aab7-75893b574998'],\n",
      "                                           'PerLengthImpedance': '_50044320-7295-4591-B39E-F793F1923098',\n",
      "                                           'Terminals': ['_000BA1F2-6879-47D7-826D-3CACD23EE20B',\n",
      "                                                         '_3589A9BE-F3BE-45C3-B84E-3CE5B6105D11'],\n",
      "                                           'length': '609.6',\n",
      "                                           'mRID': '_A04CDFB1-E951-4FC4-8882-0323CD70AE3C',\n",
      "                                           'name': '650632'},\n",
      " '_ABF53597-A808-422A-B7EE-552F24D83A5F': {'ACLineSegmentPhases': ['_28DAC6BE-8DD5-4C61-958E-ADB4E8A91EF8',\n",
      "                                                                   '_4894C0CB-632C-454A-B9A2-1C2E41FB25FF',\n",
      "                                                                   '_CF8E1FD4-BF1D-49B6-905C-8D0F9587FEF7'],\n",
      "                                           'BaseVoltage': '_2A158E0C-CD01-4A50-AEBA-59D761FCF15D',\n",
      "                                           'Location': '_216C1943-900F-4939-92FE-A3A4817363D8',\n",
      "                                           'Measurements': ['_def62366-746e-4fcb-b3ee-ebebb90d72d4',\n",
      "                                                            '_df6e0f8d-1af3-49f2-803b-454c93b19773',\n",
      "                                                            '_e87a1d11-7eaf-4535-9745-1e1a8e6b8e11',\n",
      "                                                            '_aeb839c8-9228-4fff-a538-d2699191aa2b',\n",
      "                                                            '_bcdf5a28-bce3-46e6-91a2-8eb3781605eb',\n",
      "                                                            '_d054a67b-8e35-4b2a-bd32-6cbfbde656a6'],\n",
      "                                           'PerLengthImpedance': '_50044320-7295-4591-B39E-F793F1923098',\n",
      "                                           'Terminals': ['_5EDB2918-D669-457C-9F44-E08EBA5AC850',\n",
      "                                                         '_B554744A-F5B5-485C-B67E-2487A8740295'],\n",
      "                                           'length': '203.3016',\n",
      "                                           'mRID': '_ABF53597-A808-422A-B7EE-552F24D83A5F',\n",
      "                                           'name': '632670'},\n",
      " '_ABF877D7-DAC2-4BF0-AB58-9A8A02E92EB3': {'ACLineSegmentPhases': ['_D78E30EA-6215-4365-A330-A13FADA79F4F'],\n",
      "                                           'BaseVoltage': '_2A158E0C-CD01-4A50-AEBA-59D761FCF15D',\n",
      "                                           'Location': '_CF03D366-44AC-4088-B698-D42F4E39D8C4',\n",
      "                                           'Measurements': ['_488bdd39-7f23-4aff-bff0-66abe4c7e2a7',\n",
      "                                                            '_6f1c625b-7fe9-4020-9ba6-4e7293c01771'],\n",
      "                                           'PerLengthImpedance': '_B687FB8B-3772-4BC7-9CAD-07497C7004D3',\n",
      "                                           'Terminals': ['_3313C5A7-ED81-47D3-8114-AD654A5DE21B',\n",
      "                                                         '_8692A804-428A-4637-BD47-69C76F873DAB'],\n",
      "                                           'length': '243.84',\n",
      "                                           'mRID': '_ABF877D7-DAC2-4BF0-AB58-9A8A02E92EB3',\n",
      "                                           'name': '684652'},\n",
      " '_D34B0D01-B082-4081-A3CC-B68B9B8313A4': {'ACLineSegmentPhases': ['_22182853-3560-4EE4-8BA2-0730C5F5AF94',\n",
      "                                                                   '_5143B56C-5AF7-4D47-A6B1-5F952B891190'],\n",
      "                                           'BaseVoltage': '_2A158E0C-CD01-4A50-AEBA-59D761FCF15D',\n",
      "                                           'Location': '_58246081-FEDB-4DE7-8173-C408CFE3803E',\n",
      "                                           'Measurements': ['_63abd794-ccfc-467d-aa2a-b99c7a0b636a',\n",
      "                                                            '_f3d3c954-605b-4a20-b1d9-18d69b5ca3fb',\n",
      "                                                            '_c0b0b188-ad4a-4be3-90c1-2fbb1f507a15'],\n",
      "                                           'PerLengthImpedance': '_D3933951-0672-4817-B38D-E51F47E8631F',\n",
      "                                           'Terminals': ['_A4C58654-2972-4A3E-AE65-3868941DA037',\n",
      "                                                         '_BC623628-BD23-4A1A-A406-15CA63556149'],\n",
      "                                           'length': '91.44',\n",
      "                                           'mRID': '_D34B0D01-B082-4081-A3CC-B68B9B8313A4',\n",
      "                                           'name': '671684'},\n",
      " '_FBE26B35-13AB-457D-9795-DF58B28E309D': {'ACLineSegmentPhases': ['_18F23724-C3EE-498E-96A7-98FE210A523C',\n",
      "                                                                   '_30E5A294-2F25-480D-BDDA-777F59ED5AF3',\n",
      "                                                                   '_5830B397-557C-41B5-A94D-95A3841505D0'],\n",
      "                                           'BaseVoltage': '_2A158E0C-CD01-4A50-AEBA-59D761FCF15D',\n",
      "                                           'Location': '_3D3B02A5-E9D5-45F0-9506-22B098EDA261',\n",
      "                                           'Measurements': ['_0cbdf98b-b5e4-4bc3-93d6-08db08947794',\n",
      "                                                            '_0f4457a6-a3cb-42b0-a06c-b31d5c7a17ff',\n",
      "                                                            '_bc165aa6-347d-4551-8abf-016044675a6f',\n",
      "                                                            '_8b6bd68f-c84d-45e1-91b9-b0406fbaa3b1',\n",
      "                                                            '_d56a4982-0c80-45d0-8cb8-c24097138b63',\n",
      "                                                            '_d638fbbc-9b85-416e-87b8-37c9785e1611'],\n",
      "                                           'PerLengthImpedance': '_EAEF5A85-027A-4BE2-9A07-99D4550C3DE1',\n",
      "                                           'Terminals': ['_A6C57C2E-A084-4701-ADF5-FB6F3E36F45C',\n",
      "                                                         '_F0E10483-D8AD-46BE-AF5F-08228955796B'],\n",
      "                                           'length': '152.4',\n",
      "                                           'mRID': '_FBE26B35-13AB-457D-9795-DF58B28E309D',\n",
      "                                           'name': '632633'}}\n"
     ]
    }
   ],
   "source": [
    "network.get_all_attributes(cim.ACLineSegment)\n",
    "network.pprint(cim.ACLineSegment)"
   ]
  },
  {
   "cell_type": "code",
   "execution_count": null,
   "metadata": {},
   "outputs": [],
   "source": []
  }
 ],
 "metadata": {
  "kernelspec": {
   "display_name": "Python 3 (ipykernel)",
   "language": "python",
   "name": "python3"
  },
  "language_info": {
   "codemirror_mode": {
    "name": "ipython",
    "version": 3
   },
   "file_extension": ".py",
   "mimetype": "text/x-python",
   "name": "python",
   "nbconvert_exporter": "python",
   "pygments_lexer": "ipython3",
   "version": "3.10.6"
  }
 },
 "nbformat": 4,
 "nbformat_minor": 2
}

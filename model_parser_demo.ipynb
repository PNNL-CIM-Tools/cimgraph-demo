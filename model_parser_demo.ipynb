{
 "cells": [
  {
   "cell_type": "markdown",
   "metadata": {},
   "source": [
    "# Model Parser Example\n",
    "\n",
    "Demo of how to query for an existing model that is already in a database"
   ]
  },
  {
   "cell_type": "code",
   "execution_count": 1,
   "metadata": {},
   "outputs": [],
   "source": [
    "# Specify the CIM profile version, using GridAPPS-D extensions, ver. 2021\n",
    "import importlib\n",
    "cim_profile = 'rc4_2021'\n",
    "cim = importlib.import_module('cimgraph.data_profile.' + cim_profile)\n",
    "sparql = importlib.import_module('cimgraph.loaders.sparql.' + cim_profile)"
   ]
  },
  {
   "cell_type": "code",
   "execution_count": 2,
   "metadata": {},
   "outputs": [],
   "source": [
    "# Import Distributed Topology Processor\n",
    "from topology_processor import DistributedTopology"
   ]
  },
  {
   "cell_type": "code",
   "execution_count": 3,
   "metadata": {},
   "outputs": [],
   "source": [
    "# Import CIMantic Graphs database connection and models\n",
    "from cimgraph.loaders import Parameter, ConnectionParameters\n",
    "from cimgraph.loaders.blazegraph.blazegraph import BlazegraphConnection\n",
    "from cimgraph.models import DistributedModel\n",
    "import json"
   ]
  },
  {
   "cell_type": "code",
   "execution_count": 4,
   "metadata": {},
   "outputs": [],
   "source": [
    "# Connect to Blazegraph Database\n",
    "params = ConnectionParameters([Parameter(key=\"url\", value=\"http://localhost:8889/bigdata/namespace/kb/sparql\")])\n",
    "bg = BlazegraphConnection(params, 'rc4_2021')"
   ]
  },
  {
   "cell_type": "code",
   "execution_count": 5,
   "metadata": {},
   "outputs": [],
   "source": [
    "# Create Feeder object\n",
    "feeder_mrid = \"_49AD8E07-3BF9-A4E2-CB8F-C3722F837B62\"  # 13 bus\n",
    "feeder = cim.Feeder(mRID=feeder_mrid)"
   ]
  },
  {
   "cell_type": "code",
   "execution_count": 6,
   "metadata": {},
   "outputs": [],
   "source": [
    "# Run Distributed Topology Processor to create switch-delimited topological areas\n",
    "Topology = DistributedTopology(bg, feeder_mrid)\n",
    "topology_response = json.loads(Topology.create_switch_areas(feeder_mrid))"
   ]
  },
  {
   "cell_type": "code",
   "execution_count": 7,
   "metadata": {},
   "outputs": [],
   "source": [
    "# Create CIMantic Graphs model and initialize all CIM objects\n",
    "network = DistributedModel(connection=bg, feeder=feeder, topology=topology_response['feeders'])"
   ]
  },
  {
   "cell_type": "code",
   "execution_count": 8,
   "metadata": {},
   "outputs": [
    {
     "ename": "AttributeError",
     "evalue": "'DistributedModel' object has no attribute 'pprint'",
     "output_type": "error",
     "traceback": [
      "\u001b[0;31m---------------------------------------------------------------------------\u001b[0m",
      "\u001b[0;31mAttributeError\u001b[0m                            Traceback (most recent call last)",
      "Cell \u001b[0;32mIn[8], line 1\u001b[0m\n\u001b[0;32m----> 1\u001b[0m network\u001b[39m.\u001b[39;49mpprint(cim\u001b[39m.\u001b[39mACLineSegment)\n",
      "\u001b[0;31mAttributeError\u001b[0m: 'DistributedModel' object has no attribute 'pprint'"
     ]
    }
   ],
   "source": [
    "network.pprint(cim.ACLineSegment)"
   ]
  },
  {
   "cell_type": "code",
   "execution_count": null,
   "metadata": {},
   "outputs": [],
   "source": []
  }
 ],
 "metadata": {
  "kernelspec": {
   "display_name": "Python 3",
   "language": "python",
   "name": "python3"
  },
  "language_info": {
   "codemirror_mode": {
    "name": "ipython",
    "version": 3
   },
   "file_extension": ".py",
   "mimetype": "text/x-python",
   "name": "python",
   "nbconvert_exporter": "python",
   "pygments_lexer": "ipython3",
   "version": "3.10.12"
  },
  "orig_nbformat": 4
 },
 "nbformat": 4,
 "nbformat_minor": 2
}

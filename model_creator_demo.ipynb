{
 "cells": [
  {
   "cell_type": "markdown",
   "id": "cc65dee4",
   "metadata": {},
   "source": [
    "# Model Creator Example\n",
    "\n",
    "Demo of how to build a CIM model from scratch"
   ]
  },
  {
   "cell_type": "markdown",
   "id": "d74c66b7",
   "metadata": {},
   "source": [
    "## Import Libraries and Connect to Database"
   ]
  },
  {
   "cell_type": "code",
   "execution_count": null,
   "id": "d7ecbdb2",
   "metadata": {},
   "outputs": [],
   "source": [
    "# Specify the CIM profile version, using GridAPPS-D extensions, ver. 2021\n",
    "import importlib\n",
    "cim_profile = 'rc4_2021'\n",
    "cim = importlib.import_module('cimgraph.data_profile.' + cim_profile)\n",
    "sparql = importlib.import_module('cimgraph.loaders.sparql.' + cim_profile)"
   ]
  },
  {
   "cell_type": "code",
   "execution_count": null,
   "id": "3e7e1836",
   "metadata": {},
   "outputs": [],
   "source": [
    "# Import Distributed Topology Processor\n",
    "from topology_processor import DistributedTopology"
   ]
  },
  {
   "cell_type": "code",
   "execution_count": null,
   "id": "9fcb9e84",
   "metadata": {},
   "outputs": [],
   "source": [
    "# Import CIMantic Graphs database connection and models\n",
    "from cimgraph.loaders import Parameter, ConnectionParameters\n",
    "from cimgraph.loaders.blazegraph.blazegraph import BlazegraphConnection\n",
    "from cimgraph.models import NewModel, DistributedModel\n",
    "import json\n",
    "import uuid\n"
   ]
  },
  {
   "cell_type": "code",
   "execution_count": null,
   "id": "14b30a3e",
   "metadata": {},
   "outputs": [],
   "source": [
    "# Connect to Blazegraph Database\n",
    "params = ConnectionParameters([Parameter(key=\"url\", value=\"http://localhost:8889/bigdata/namespace/kb/sparql\")])\n",
    "bg = BlazegraphConnection(params, 'rc4_2021')"
   ]
  },
  {
   "cell_type": "markdown",
   "id": "b1a526eb",
   "metadata": {},
   "source": [
    "## Create a New Distribution Network"
   ]
  },
  {
   "cell_type": "markdown",
   "id": "3ca94fd3",
   "metadata": {},
   "source": [
    "### Create Feeder Object"
   ]
  },
  {
   "cell_type": "code",
   "execution_count": null,
   "id": "c55b9cfd",
   "metadata": {},
   "outputs": [],
   "source": [
    "# Create new network object and connect to database for upload\n",
    "fdr_mrid = str(uuid.uuid4()) # auto-generate unique id\n",
    "fdr = cim.Feeder(name = 'demo_feeder', mRID = fdr_mrid) # create feeder\n",
    "\n",
    "network = NewModel(bg) # Create CIM-Graph model\n",
    "network.Feeder = fdr\n",
    "network.add_to_typed_catalog([fdr])"
   ]
  },
  {
   "cell_type": "code",
   "execution_count": null,
   "id": "b184d0ff",
   "metadata": {},
   "outputs": [],
   "source": [
    "# Print feeder python object\n",
    "print(fdr)"
   ]
  },
  {
   "cell_type": "code",
   "execution_count": null,
   "id": "e49483e3",
   "metadata": {},
   "outputs": [],
   "source": [
    "# Dump all attributed of feeder object including empty fields\n",
    "json.loads(network.__dumps__(cim.Feeder))"
   ]
  },
  {
   "cell_type": "code",
   "execution_count": null,
   "id": "09fd1014",
   "metadata": {},
   "outputs": [],
   "source": [
    "# Pretty-print feeder object with empty fields hidden\n",
    "network.pprint(cim.Feeder)"
   ]
  },
  {
   "cell_type": "markdown",
   "id": "26ee8b32",
   "metadata": {},
   "source": [
    "### Specify Substation and Geographic Region"
   ]
  },
  {
   "cell_type": "code",
   "execution_count": null,
   "id": "5850eaf1",
   "metadata": {},
   "outputs": [],
   "source": [
    "# Create Substation and GeographicalRegion objects\n",
    "reg = cim.GeographicalRegion(name = 'demo_region', mRID = str(uuid.uuid4()))\n",
    "subreg = cim.SubGeographicalRegion(name = 'demo_subregion', mRID = str(uuid.uuid4()), Region=reg)\n",
    "sub = cim.Substation(name = 'demo_sub', mRID = str(uuid.uuid4()), Region=subreg)"
   ]
  },
  {
   "cell_type": "code",
   "execution_count": null,
   "id": "7ef94f7d",
   "metadata": {},
   "outputs": [],
   "source": [
    "# Add to network model\n",
    "network.add_to_typed_catalog([reg, subreg, sub])\n",
    "# Associate substation to feeder\n",
    "fdr.NormalEnergizingSubstation = sub\n",
    "# Print full feeder object\n",
    "print(fdr)"
   ]
  },
  {
   "cell_type": "code",
   "execution_count": null,
   "id": "c016f38f",
   "metadata": {},
   "outputs": [],
   "source": [
    "# Create reverse association\n",
    "sub.NormalEnergizedFeeder = fdr"
   ]
  },
  {
   "cell_type": "code",
   "execution_count": null,
   "id": "2349c62c",
   "metadata": {},
   "outputs": [],
   "source": [
    "# Printing full object results in infinite print loop\n",
    "print(fdr)"
   ]
  },
  {
   "cell_type": "code",
   "execution_count": null,
   "id": "97e9f9ae",
   "metadata": {},
   "outputs": [],
   "source": [
    "# Pretty-print feeder object with empty fields hidden\n",
    "network.pprint(cim.Feeder)\n",
    "network.pprint(cim.Substation)"
   ]
  },
  {
   "cell_type": "markdown",
   "id": "05ae0f09",
   "metadata": {},
   "source": [
    "### Create a new line"
   ]
  },
  {
   "cell_type": "code",
   "execution_count": null,
   "id": "b4614242",
   "metadata": {},
   "outputs": [],
   "source": [
    "# Create a new line\n",
    "line = cim.ACLineSegment(name = \"new_line\", mRID = str(uuid.uuid4()))\n",
    "line.EquipmentContainer = fdr # Associate with feeder\n",
    "line.r = 0.004\n",
    "line.x = 0.080\n",
    "line.bch = 0.006"
   ]
  },
  {
   "cell_type": "code",
   "execution_count": null,
   "id": "1c4d2e6c",
   "metadata": {},
   "outputs": [],
   "source": [
    "# Add to CIM-Graph network model\n",
    "network.add_to_typed_catalog([line])\n",
    "network.pprint(cim.ACLineSegment)"
   ]
  },
  {
   "cell_type": "markdown",
   "id": "d28352e2",
   "metadata": {},
   "source": [
    "### Create a line builder script\n",
    "Semi-automated script to create ACLineSegment and associated buses"
   ]
  },
  {
   "cell_type": "code",
   "execution_count": null,
   "id": "76804934",
   "metadata": {},
   "outputs": [],
   "source": [
    "def create_line(network, name:str, bus1:str, bus2:str):\n",
    "    line = cim.ACLineSegment(name = name, mRID = str(uuid.uuid4()), EquipmentContainer=network.Feeder)\n",
    "    node1 = cim.ConnectivityNode(name = bus1, mRID = str(uuid.uuid4()), ConnectivityNodeContainer=network.Feeder)\n",
    "    node2 = cim.ConnectivityNode(name = bus2, mRID = str(uuid.uuid4()), ConnectivityNodeContainer=network.Feeder)\n",
    "    term1 = cim.Terminal(mRID = str(uuid.uuid4()))\n",
    "    term2 = cim.Terminal(mRID = str(uuid.uuid4()))\n",
    "\n",
    "    term1.ConnectivityNode = node1\n",
    "    term2.ConnectivityNode = node2\n",
    "    term1.ConductingEquipment = line\n",
    "    term2.ConductingEquipment = line\n",
    "    node1.Terminals.append(term1)\n",
    "    node2.Terminals.append(term2)\n",
    "    line.Terminals.append(term1)\n",
    "    line.Terminals.append(term2)\n",
    "\n",
    "    network.add_to_typed_catalog([line, node1, node2, term1, term2])"
   ]
  },
  {
   "cell_type": "code",
   "execution_count": null,
   "id": "81ef99df",
   "metadata": {},
   "outputs": [],
   "source": [
    "create_line(network, 'line_1_2', 'bus_1', 'bus_2')\n",
    "create_line(network, 'line_3_4', 'bus_3', 'bus_4')"
   ]
  },
  {
   "cell_type": "code",
   "execution_count": null,
   "id": "2dd85438",
   "metadata": {},
   "outputs": [],
   "source": [
    "network.pprint(cim.ACLineSegment)"
   ]
  },
  {
   "cell_type": "markdown",
   "id": "07fc1275",
   "metadata": {},
   "source": [
    "### Batch Edit all Line Impedances"
   ]
  },
  {
   "cell_type": "code",
   "execution_count": null,
   "id": "b1b5cdd0",
   "metadata": {},
   "outputs": [],
   "source": [
    "# Double impedance of all lines\n",
    "for line in network.typed_catalog[cim.ACLineSegment].values():\n",
    "    line.r = 0.004\n",
    "    line.x = 0.080\n",
    "    line.bch = 0.006"
   ]
  },
  {
   "cell_type": "code",
   "execution_count": null,
   "id": "f8b215aa",
   "metadata": {},
   "outputs": [],
   "source": [
    "network.pprint(cim.ACLineSegment)"
   ]
  },
  {
   "cell_type": "markdown",
   "id": "02ee5dbc",
   "metadata": {},
   "source": [
    "## Traverse the New Model"
   ]
  },
  {
   "cell_type": "code",
   "execution_count": null,
   "id": "4e0bdbf9",
   "metadata": {},
   "outputs": [],
   "source": [
    "# See the two buses connected to the line\n",
    "print(line.Terminals[0].ConnectivityNode.name)\n",
    "print(line.Terminals[1].ConnectivityNode.name)"
   ]
  },
  {
   "cell_type": "code",
   "execution_count": null,
   "id": "4b29f461",
   "metadata": {},
   "outputs": [],
   "source": [
    "# See the substation feeding the line\n",
    "print(line.EquipmentContainer.name)\n",
    "print(line.EquipmentContainer.NormalEnergizingSubstation.name)"
   ]
  },
  {
   "cell_type": "markdown",
   "id": "8da8dbb6",
   "metadata": {},
   "source": [
    "## Export and Upload"
   ]
  },
  {
   "cell_type": "code",
   "execution_count": null,
   "id": "6e9edbd1",
   "metadata": {},
   "outputs": [],
   "source": [
    "# Write to XML File\n",
    "dest_file = 'demo_feeder.xml'\n",
    "schema = 'http://iec.ch/TC57/CIM100#'\n",
    "network.write_xml(dest_file, schema)"
   ]
  },
  {
   "cell_type": "code",
   "execution_count": null,
   "id": "d38a20df",
   "metadata": {},
   "outputs": [],
   "source": [
    "# Upload to Blazegraph Database\n",
    "network.upload()"
   ]
  },
  {
   "cell_type": "code",
   "execution_count": null,
   "id": "f44d841b",
   "metadata": {},
   "outputs": [],
   "source": [
    "# Use CIMHub Library to print all feeders in database\n",
    "!python3 CIMHub/src_python/cimhub/ListFeeders.py"
   ]
  }
 ],
 "metadata": {
  "kernelspec": {
   "display_name": "Python 3 (ipykernel)",
   "language": "python",
   "name": "python3"
  },
  "language_info": {
   "codemirror_mode": {
    "name": "ipython",
    "version": 3
   },
   "file_extension": ".py",
   "mimetype": "text/x-python",
   "name": "python",
   "nbconvert_exporter": "python",
   "pygments_lexer": "ipython3",
   "version": "3.10.12"
  }
 },
 "nbformat": 4,
 "nbformat_minor": 5
}

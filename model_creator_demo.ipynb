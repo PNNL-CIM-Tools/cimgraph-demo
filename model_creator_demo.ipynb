{
 "cells": [
  {
   "cell_type": "markdown",
   "id": "50378c28",
   "metadata": {},
   "source": [
    "# Model Creator Example\n",
    "\n",
    "Demo of how to build a CIM model from scratch"
   ]
  },
  {
   "cell_type": "markdown",
   "id": "67c3de9b",
   "metadata": {},
   "source": [
    "## Import Libraries and Connect to Database"
   ]
  },
  {
   "cell_type": "code",
   "execution_count": null,
   "id": "64b3990e",
   "metadata": {},
   "outputs": [],
   "source": [
    "# Specify the CIM profile version, using GridAPPS-D extensions, ver. 2021\n",
    "import importlib\n",
    "cim_profile = 'rc4_2021'\n",
    "cim = importlib.import_module('cimgraph.data_profile.' + cim_profile)\n",
    "sparql = importlib.import_module('cimgraph.loaders.sparql.' + cim_profile)"
   ]
  },
  {
   "cell_type": "code",
   "execution_count": null,
   "id": "39f57605",
   "metadata": {},
   "outputs": [],
   "source": [
    "# Import Distributed Topology Processor\n",
    "from topology_processor import DistributedTopology"
   ]
  },
  {
   "cell_type": "code",
   "execution_count": null,
   "id": "03d3ba3b",
   "metadata": {},
   "outputs": [],
   "source": [
    "# Import CIMantic Graphs database connection and models\n",
    "from cimgraph.loaders import Parameter, ConnectionParameters\n",
    "from cimgraph.loaders.blazegraph.blazegraph import BlazegraphConnection\n",
    "from cimgraph.models import NewModel, DistributedModel\n",
    "import json\n",
    "import uuid\n"
   ]
  },
  {
   "cell_type": "code",
   "execution_count": null,
   "id": "8366b493",
   "metadata": {},
   "outputs": [],
   "source": [
    "# Connect to Blazegraph Database\n",
    "params = ConnectionParameters([Parameter(key=\"url\", value=\"http://localhost:8889/bigdata/namespace/kb/sparql\")])\n",
    "bg = BlazegraphConnection(params, 'rc4_2021')"
   ]
  },
  {
   "cell_type": "markdown",
   "id": "9f7e013d",
   "metadata": {},
   "source": [
    "## Create a New Distribution Network"
   ]
  },
  {
   "cell_type": "markdown",
   "id": "6701da6b",
   "metadata": {},
   "source": [
    "### Create Feeder Object"
   ]
  },
  {
   "cell_type": "code",
   "execution_count": null,
   "id": "410a754f",
   "metadata": {},
   "outputs": [],
   "source": [
    "# Create new network object and connect to database for upload\n",
    "fdr_mrid = str(uuid.uuid4()) # auto-generate unique id\n",
    "fdr = cim.Feeder(name = 'demo_feeder', mRID = fdr_mrid) # create feeder\n",
    "\n",
    "network = NewModel(bg) # Create CIM-Graph model\n",
    "network.Feeder = fdr\n",
    "network.add_to_typed_catalog([fdr])"
   ]
  },
  {
   "cell_type": "code",
   "execution_count": null,
   "id": "78ae67e6",
   "metadata": {},
   "outputs": [],
   "source": [
    "# Print feeder python object\n",
    "print(fdr)"
   ]
  },
  {
   "cell_type": "code",
   "execution_count": null,
   "id": "bfd9c8b1",
   "metadata": {},
   "outputs": [],
   "source": [
    "# Dump all attributed of feeder object including empty fields\n",
    "json.loads(network.__dumps__(cim.Feeder))"
   ]
  },
  {
   "cell_type": "code",
   "execution_count": null,
   "id": "c4cbad43",
   "metadata": {},
   "outputs": [],
   "source": [
    "# Pretty-print feeder object with empty fields hidden\n",
    "network.pprint(cim.Feeder)"
   ]
  },
  {
   "cell_type": "markdown",
   "id": "1b1763dc",
   "metadata": {},
   "source": [
    "### Specify Substation and Geographic Region"
   ]
  },
  {
   "cell_type": "code",
   "execution_count": null,
   "id": "ce5f5989",
   "metadata": {},
   "outputs": [],
   "source": [
    "# Create Substation and GeographicalRegion objects\n",
    "reg = cim.GeographicalRegion(name = 'demo_region', mRID = str(uuid.uuid4()))\n",
    "subreg = cim.SubGeographicalRegion(name = 'demo_subregion', mRID = str(uuid.uuid4()), Region=reg)\n",
    "sub = cim.Substation(name = 'demo_sub', mRID = str(uuid.uuid4()), Region=subreg)"
   ]
  },
  {
   "cell_type": "code",
   "execution_count": null,
   "id": "8642fcd1",
   "metadata": {},
   "outputs": [],
   "source": [
    "# Add to network model\n",
    "network.add_to_typed_catalog([reg, subreg, sub])\n",
    "# Associate substation to feeder\n",
    "fdr.NormalEnergizingSubstation = sub\n",
    "# Print full feeder object\n",
    "print(fdr)"
   ]
  },
  {
   "cell_type": "code",
   "execution_count": null,
   "id": "db692433",
   "metadata": {},
   "outputs": [],
   "source": [
    "# Create reverse association\n",
    "sub.NormalEnergizedFeeder = fdr"
   ]
  },
  {
   "cell_type": "code",
   "execution_count": null,
   "id": "2c7e2e5d",
   "metadata": {},
   "outputs": [],
   "source": [
    "# Printing full object results in infinite print loop\n",
    "print(fdr)"
   ]
  },
  {
   "cell_type": "code",
   "execution_count": null,
   "id": "7b2c07c4",
   "metadata": {},
   "outputs": [],
   "source": [
    "# Pretty-print feeder object with empty fields hidden\n",
    "network.pprint(cim.Feeder)\n",
    "network.pprint(cim.Substation)"
   ]
  },
  {
   "cell_type": "markdown",
   "id": "c0358594",
   "metadata": {},
   "source": [
    "### Create a new line"
   ]
  },
  {
   "cell_type": "code",
   "execution_count": null,
   "id": "0fd247e3",
   "metadata": {},
   "outputs": [],
   "source": [
    "# Create a new line\n",
    "line = cim.ACLineSegment(name = \"new_line\", mRID = str(uuid.uuid4()))\n",
    "line.EquipmentContainer = fdr # Associate with feeder\n",
    "line.r = 0.004\n",
    "line.x = 0.080\n",
    "line.bch = 0.006"
   ]
  },
  {
   "cell_type": "code",
   "execution_count": null,
   "id": "35f1bfaa",
   "metadata": {},
   "outputs": [],
   "source": [
    "# Add to CIM-Graph network model\n",
    "network.add_to_typed_catalog([line])\n",
    "network.pprint(cim.ACLineSegment)"
   ]
  },
  {
   "cell_type": "markdown",
   "id": "ab13ac4c",
   "metadata": {},
   "source": [
    "### Create a line builder script\n",
    "Semi-automated script to create ACLineSegment and associated buses"
   ]
  },
  {
   "cell_type": "code",
   "execution_count": null,
   "id": "173a4069",
   "metadata": {},
   "outputs": [],
   "source": [
    "def create_line(network, name:str, bus1:str, bus2:str):\n",
    "    line = cim.ACLineSegment(name = name, mRID = str(uuid.uuid4()), EquipmentContainer=network.Feeder)\n",
    "    node1 = cim.ConnectivityNode(name = bus1, mRID = str(uuid.uuid4()), ConnectivityNodeContainer=network.Feeder)\n",
    "    node2 = cim.ConnectivityNode(name = bus2, mRID = str(uuid.uuid4()), ConnectivityNodeContainer=network.Feeder)\n",
    "    term1 = cim.Terminal(mRID = str(uuid.uuid4()))\n",
    "    term2 = cim.Terminal(mRID = str(uuid.uuid4()))\n",
    "\n",
    "    term1.ConnectivityNode = node1\n",
    "    term2.ConnectivityNode = node2\n",
    "    term1.ConductingEquipment = line\n",
    "    term2.ConductingEquipment = line\n",
    "    node1.Terminals.append(term1)\n",
    "    node2.Terminals.append(term2)\n",
    "    line.Terminals.append(term1)\n",
    "    line.Terminals.append(term2)\n",
    "\n",
    "    network.add_to_typed_catalog([line, node1, node2, term1, term2])"
   ]
  },
  {
   "cell_type": "code",
   "execution_count": null,
   "id": "47fbe1ed",
   "metadata": {},
   "outputs": [],
   "source": [
    "create_line(network, 'line_1_2', 'bus_1', 'bus_2')\n",
    "create_line(network, 'line_3_4', 'bus_3', 'bus_4')"
   ]
  },
  {
   "cell_type": "code",
   "execution_count": null,
   "id": "b7109b48",
   "metadata": {},
   "outputs": [],
   "source": [
    "network.pprint(cim.ACLineSegment)"
   ]
  },
  {
   "cell_type": "markdown",
   "id": "295a2618",
   "metadata": {},
   "source": [
    "### Batch Edit all Line Impedances"
   ]
  },
  {
   "cell_type": "code",
   "execution_count": null,
   "id": "3898062f",
   "metadata": {},
   "outputs": [],
   "source": [
    "# Double impedance of all lines\n",
    "for line in network.typed_catalog[cim.ACLineSegment].values():\n",
    "    line.r = 0.004\n",
    "    line.x = 0.080\n",
    "    line.bch = 0.006"
   ]
  },
  {
   "cell_type": "code",
   "execution_count": null,
   "id": "5ad82027",
   "metadata": {},
   "outputs": [],
   "source": [
    "network.pprint(cim.ACLineSegment)"
   ]
  },
  {
   "cell_type": "markdown",
   "id": "8348f176",
   "metadata": {},
   "source": [
    "## Export and Upload"
   ]
  },
  {
   "cell_type": "code",
   "execution_count": null,
   "id": "d2840755",
   "metadata": {},
   "outputs": [],
   "source": [
    "# Write to XML File\n",
    "dest_file = 'demo_feeder.xml'\n",
    "schema = 'http://iec.ch/TC57/CIM100#'\n",
    "network.write_xml(dest_file, schema)"
   ]
  },
  {
   "cell_type": "code",
   "execution_count": null,
   "id": "2ff6d271",
   "metadata": {},
   "outputs": [],
   "source": [
    "# Upload to Blazegraph Database\n",
    "network.upload()"
   ]
  },
  {
   "cell_type": "code",
   "execution_count": null,
   "id": "96ddc50e",
   "metadata": {},
   "outputs": [],
   "source": [
    "# Use CIMHub Library to print all feeders in database\n",
    "!python3 CIMHub/src_python/cimhub/ListFeeders.py"
   ]
  }
 ],
 "metadata": {
  "kernelspec": {
   "display_name": "Python 3 (ipykernel)",
   "language": "python",
   "name": "python3"
  },
  "language_info": {
   "codemirror_mode": {
    "name": "ipython",
    "version": 3
   },
   "file_extension": ".py",
   "mimetype": "text/x-python",
   "name": "python",
   "nbconvert_exporter": "python",
   "pygments_lexer": "ipython3",
   "version": "3.10.6"
  }
 },
 "nbformat": 4,
 "nbformat_minor": 5
}

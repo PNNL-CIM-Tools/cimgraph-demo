{
 "cells": [
  {
   "cell_type": "code",
   "execution_count": 9,
   "id": "17c041a7",
   "metadata": {},
   "outputs": [],
   "source": [
    "# Import base python libraries\n",
    "import uuid\n",
    "import json"
   ]
  },
  {
   "cell_type": "code",
   "execution_count": 1,
   "id": "94f23e6d",
   "metadata": {},
   "outputs": [],
   "source": [
    "# Import OpenDSS Direct\n",
    "import opendssdirect as dss"
   ]
  },
  {
   "cell_type": "code",
   "execution_count": 4,
   "id": "985547dd",
   "metadata": {},
   "outputs": [
    {
     "data": {
      "text/plain": [
       "''"
      ]
     },
     "execution_count": 4,
     "metadata": {},
     "output_type": "execute_result"
    }
   ],
   "source": [
    "# Load IEEE 13 Node OpenDSS Sample Case\n",
    "dss.run_command('Redirect ./dss/IEEE13Node.dss')\n",
    "dss.run_command('Compile ./dss/IEEE13Node.dss')\n",
    "dss.Solution.Solve()"
   ]
  },
  {
   "cell_type": "code",
   "execution_count": 10,
   "id": "e0080e59",
   "metadata": {},
   "outputs": [
    {
     "data": {
      "text/plain": [
       "'ieee13demo.xml'"
      ]
     },
     "execution_count": 10,
     "metadata": {},
     "output_type": "execute_result"
    }
   ],
   "source": [
    "# Convert to CIM 100 XML\n",
    "feeder_mrid = str(uuid.uuid4())\n",
    "dss.run_command(f'export cim100 fid={feeder_mrid} substation=ieee13 subgeo=small geo=sample file=ieee13demo.xml')"
   ]
  },
  {
   "cell_type": "code",
   "execution_count": null,
   "id": "ce56a651",
   "metadata": {},
   "outputs": [],
   "source": []
  },
  {
   "cell_type": "code",
   "execution_count": null,
   "id": "adee456f",
   "metadata": {},
   "outputs": [],
   "source": []
  },
  {
   "cell_type": "code",
   "execution_count": 6,
   "id": "15fc952e",
   "metadata": {},
   "outputs": [],
   "source": [
    "dss.Solution.Solve()"
   ]
  },
  {
   "cell_type": "code",
   "execution_count": null,
   "id": "e3709781",
   "metadata": {},
   "outputs": [],
   "source": []
  }
 ],
 "metadata": {
  "kernelspec": {
   "display_name": "Python 3 (ipykernel)",
   "language": "python",
   "name": "python3"
  },
  "language_info": {
   "codemirror_mode": {
    "name": "ipython",
    "version": 3
   },
   "file_extension": ".py",
   "mimetype": "text/x-python",
   "name": "python",
   "nbconvert_exporter": "python",
   "pygments_lexer": "ipython3",
   "version": "3.10.6"
  }
 },
 "nbformat": 4,
 "nbformat_minor": 5
}

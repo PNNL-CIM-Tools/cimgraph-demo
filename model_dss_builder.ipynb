{
 "cells": [
  {
   "cell_type": "code",
   "execution_count": null,
   "id": "3c5eed4c",
   "metadata": {},
   "outputs": [],
   "source": [
    "# Import base python libraries\n",
    "import uuid\n",
    "import json\n",
    "import os"
   ]
  },
  {
   "cell_type": "markdown",
   "id": "03c464ae",
   "metadata": {},
   "source": [
    "## Method 1: Use OpenDSScmd Command Line\n",
    "Preferred. OpenDSScmd is updated with latest CIM GMDM profile and IEEE 1547 settings"
   ]
  },
  {
   "cell_type": "code",
   "execution_count": null,
   "id": "47d216ed",
   "metadata": {},
   "outputs": [],
   "source": [
    "# Confirm that opendsscmd is running\n",
    "!which opendsscmd"
   ]
  },
  {
   "cell_type": "code",
   "execution_count": null,
   "id": "45837831",
   "metadata": {},
   "outputs": [],
   "source": [
    "# Specify OpenDSS master-file\n",
    "dss_file = \"./dss/IEEE13Node.dss\"\n",
    "sub = \"IEEE13\"\n",
    "geo = \"demo\"\n",
    "subgeo = \"small\"\n",
    "name = \"ieee13training\"\n",
    "feeder_mrid = str(uuid.uuid4())\n",
    "destination = \"IEEE13Demo.xml\""
   ]
  },
  {
   "cell_type": "code",
   "execution_count": null,
   "id": "0ff84029",
   "metadata": {},
   "outputs": [],
   "source": [
    "with open('cim_converter.dss', 'a') as df:\n",
    "    df.write(f'redirect {dss_file} \\n')\n",
    "    #df.write('uuids file=base/{:s}_uuids.dat'.format (root))\n",
    "    df.write('set maxiterations=20 \\n')\n",
    "    df.write('set tolerance=1e-5 \\n')\n",
    "    df.write('solve \\n')\n",
    "    df.write(f'export cim100 fid={feeder_mrid} substation={sub} geo={geo} subgeo={subgeo} file={destination}')"
   ]
  },
  {
   "cell_type": "code",
   "execution_count": null,
   "id": "1e6641da",
   "metadata": {},
   "outputs": [],
   "source": [
    "# Run command line exporter:\n",
    "!opendsscmd cim_converter.dss"
   ]
  },
  {
   "cell_type": "markdown",
   "id": "ea036b90",
   "metadata": {},
   "source": [
    "## Method 2: Use OpenDSS Direct\n",
    "(Unknown which profile version opendss direct is using)"
   ]
  },
  {
   "cell_type": "code",
   "execution_count": null,
   "id": "85d59438",
   "metadata": {},
   "outputs": [],
   "source": [
    "# Import OpenDSS Direct\n",
    "import opendssdirect as dss"
   ]
  },
  {
   "cell_type": "code",
   "execution_count": null,
   "id": "2cb48f5d",
   "metadata": {},
   "outputs": [],
   "source": [
    "# Load IEEE 13 Node OpenDSS Sample Case\n",
    "dss.run_command('Redirect ./dss/IEEE13Node.dss')\n",
    "dss.run_command('Compile ./dss/IEEE13Node.dss')\n",
    "dss.Solution.Solve()"
   ]
  },
  {
   "cell_type": "code",
   "execution_count": null,
   "id": "1e60105b",
   "metadata": {},
   "outputs": [],
   "source": [
    "# Convert to CIM 100 XML\n",
    "dss.run_command(f'export cim100 fid={feeder_mrid} substation=ieee13 subgeo=small geo=sample file=ieee13demo1.xml')\n",
    "os.chdir('..') #return to main directory"
   ]
  },
  {
   "cell_type": "markdown",
   "id": "a5b7c4cf",
   "metadata": {},
   "source": [
    "## Upload to Database"
   ]
  },
  {
   "cell_type": "code",
   "execution_count": null,
   "id": "e6f0b6d4",
   "metadata": {},
   "outputs": [],
   "source": [
    "# Load model into Blazegraph Database\n",
    "!curl -s -D- -H 'Content-Type: application/xml' --upload-file 'IEEE13Demo.xml' -X POST 'http://localhost:8889/bigdata/namespace/kb/sparql'"
   ]
  },
  {
   "cell_type": "markdown",
   "id": "5ae2a0ef",
   "metadata": {},
   "source": [
    "## Optional: Use CIMHub to add SCADA points, houses, and DER"
   ]
  },
  {
   "cell_type": "code",
   "execution_count": null,
   "id": "213c69e9",
   "metadata": {},
   "outputs": [],
   "source": [
    "# Use CIMHub Library to print all feeders in database\n",
    "!python3 ../CIMHub/src_python/cimhub/ListFeeders.py"
   ]
  },
  {
   "cell_type": "code",
   "execution_count": null,
   "id": "cdef75e7",
   "metadata": {},
   "outputs": [],
   "source": [
    "# Create SCADA points for all objects in the feeder\n",
    "!python3 ../CIMHub/src_python/cimhub/ListMeasureables.py ../CIMHub/cimhubconfig.json {name} {\"_\"+feeder_mrid}\n",
    "!for f in `ls -1 *txt`; do python3 ../CIMHub/src_python/cimhub/InsertMeasurements.py ../CIMHub/cimhubconfig.json $f uuidfile.json; done"
   ]
  }
 ],
 "metadata": {
  "kernelspec": {
   "display_name": "Python 3 (ipykernel)",
   "language": "python",
   "name": "python3"
  },
  "language_info": {
   "codemirror_mode": {
    "name": "ipython",
    "version": 3
   },
   "file_extension": ".py",
   "mimetype": "text/x-python",
   "name": "python",
   "nbconvert_exporter": "python",
   "pygments_lexer": "ipython3",
   "version": "3.10.6"
  }
 },
 "nbformat": 4,
 "nbformat_minor": 5
}

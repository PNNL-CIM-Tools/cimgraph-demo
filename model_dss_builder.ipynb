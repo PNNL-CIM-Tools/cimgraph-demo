{
 "cells": [
  {
   "cell_type": "code",
   "execution_count": 9,
   "id": "3c5eed4c",
   "metadata": {},
   "outputs": [],
   "source": [
    "# Import base python libraries\n",
    "import uuid\n",
    "import json"
   ]
  },
  {
   "cell_type": "code",
   "execution_count": 1,
   "id": "4c312f96",
   "metadata": {},
   "outputs": [],
   "source": [
    "# Import OpenDSS Direct\n",
    "import opendssdirect as dss"
   ]
  },
  {
   "cell_type": "code",
   "execution_count": 4,
   "id": "9f7bca8c",
   "metadata": {},
   "outputs": [
    {
     "data": {
      "text/plain": [
       "''"
      ]
     },
     "execution_count": 4,
     "metadata": {},
     "output_type": "execute_result"
    }
   ],
   "source": [
    "# Load IEEE 13 Node OpenDSS Sample Case\n",
    "dss.run_command('Redirect ./dss/IEEE13Node.dss')\n",
    "dss.run_command('Compile ./dss/IEEE13Node.dss')\n",
    "dss.Solution.Solve()"
   ]
  },
  {
   "cell_type": "code",
   "execution_count": 10,
   "id": "3650f6ae",
   "metadata": {},
   "outputs": [
    {
     "data": {
      "text/plain": [
       "'ieee13demo.xml'"
      ]
     },
     "execution_count": 10,
     "metadata": {},
     "output_type": "execute_result"
    }
   ],
   "source": [
    "# Convert to CIM 100 XML\n",
    "feeder_mrid = str(uuid.uuid4())\n",
    "dss.run_command(f'export cim100 fid={feeder_mrid} substation=ieee13 subgeo=small geo=sample file=ieee13demo.xml')"
   ]
  },
  {
   "cell_type": "code",
   "execution_count": 11,
   "id": "47d216ed",
   "metadata": {},
   "outputs": [
    {
     "name": "stdout",
     "output_type": "stream",
     "text": [
      "/usr/local/bin/opendsscmd\r\n"
     ]
    }
   ],
   "source": [
    "!which opendsscmd"
   ]
  },
  {
   "cell_type": "code",
   "execution_count": 14,
   "id": "45837831",
   "metadata": {},
   "outputs": [],
   "source": [
    "dss_file = \"./dss/IEEE13Node.dss\"\n",
    "sub = \"IEEE13\"\n",
    "geo = \"demo\"\n",
    "subgeo = \"small\"\n",
    "feeder_mrid = str(uuid.uuid4())\n",
    "destination = \"IEEE13Demo.xml\""
   ]
  },
  {
   "cell_type": "code",
   "execution_count": 20,
   "id": "b3c864ca",
   "metadata": {},
   "outputs": [],
   "source": [
    "fp = open('cim_converter.dss', 'w')\n",
    "print (f'redirect {dss_file}', file=fp)\n",
    "# print ('uuids file=base/{:s}_uuids.dat'.format (root), file=fp)\n",
    "print ('set maxiterations=20', file=fp)\n",
    "print ('set tolerance=1e-5', file=fp)\n",
    "print ('solve', file=fp)\n",
    "print ('cd ', file=fp)\n",
    "print (f'export cim100 fid={feeder_mrid} substation={sub} geo={geo} subgeo={subgeo} file={destination}.xml', file=fp)"
   ]
  },
  {
   "cell_type": "code",
   "execution_count": 13,
   "id": "1e6641da",
   "metadata": {},
   "outputs": [
    {
     "data": {
      "text/plain": [
       "'\\ne88688a5-b2f3-4d61-b2f7-24b372ffe4ca\\n'"
      ]
     },
     "execution_count": 13,
     "metadata": {},
     "output_type": "execute_result"
    }
   ],
   "source": [
    "dss_writer"
   ]
  },
  {
   "cell_type": "code",
   "execution_count": null,
   "id": "e6f0b6d4",
   "metadata": {},
   "outputs": [],
   "source": []
  }
 ],
 "metadata": {
  "kernelspec": {
   "display_name": "Python 3 (ipykernel)",
   "language": "python",
   "name": "python3"
  },
  "language_info": {
   "codemirror_mode": {
    "name": "ipython",
    "version": 3
   },
   "file_extension": ".py",
   "mimetype": "text/x-python",
   "name": "python",
   "nbconvert_exporter": "python",
   "pygments_lexer": "ipython3",
   "version": "3.10.6"
  }
 },
 "nbformat": 4,
 "nbformat_minor": 5
}
